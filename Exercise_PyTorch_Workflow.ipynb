{
  "nbformat": 4,
  "nbformat_minor": 0,
  "metadata": {
    "colab": {
      "provenance": [],
      "gpuType": "T4",
      "authorship_tag": "ABX9TyNuW9kZ40tQSRHhqfjeXh4v",
      "include_colab_link": true
    },
    "kernelspec": {
      "name": "python3",
      "display_name": "Python 3"
    },
    "language_info": {
      "name": "python"
    },
    "accelerator": "GPU"
  },
  "cells": [
    {
      "cell_type": "markdown",
      "metadata": {
        "id": "view-in-github",
        "colab_type": "text"
      },
      "source": [
        "<a href=\"https://colab.research.google.com/github/BhardwajArjit/Google-Colab/blob/main/Exercise_PyTorch_Workflow.ipynb\" target=\"_parent\"><img src=\"https://colab.research.google.com/assets/colab-badge.svg\" alt=\"Open In Colab\"/></a>"
      ]
    },
    {
      "cell_type": "markdown",
      "source": [
        "1. Create a straight line dataset using the linear regression formula (weight * X + bias).\n",
        "* Set weight=0.3 and bias=0.9 there should be at least 100 datapoints total.\n",
        "* Split the data into 80% training, 20% testing.\n",
        "* Plot the training and testing data so it becomes visual.\n",
        "2. Build a PyTorch model by subclassing nn.Module.\n",
        "* Inside should be a randomly initialized nn.Parameter() with requires_grad=True, one for weights and one for bias.\n",
        "* Implement the forward() method to compute the linear regression function you used to create the dataset in 1.\n",
        "* Once you've constructed the model, make an instance of it and check its state_dict().\n",
        "* Note: If you'd like to use nn.Linear() instead of nn.Parameter() you can.\n",
        "3. Create a loss function and optimizer using nn.L1Loss() and torch.optim.SGD(params, lr) respectively.\n",
        "* Set the learning rate of the optimizer to be 0.01 and the parameters to optimize should be the model parameters from the model you created in 2.\n",
        "* Write a training loop to perform the appropriate training steps for 300 epochs.\n",
        "* The training loop should test the model on the test dataset every 20 epochs.\n",
        "4. Make predictions with the trained model on the test data.\n",
        "* Visualize these predictions against the original training and testing data (note: you may need to make sure the predictions are not on the GPU if you want to use non-CUDA-enabled libraries such as matplotlib to plot).\n",
        "5. Save your trained model's state_dict() to file.\n",
        "* Create a new instance of your model class you made in 2. and load in the state_dict() you just saved to it.\n",
        "* Perform predictions on your test data with the loaded model and confirm they match the original model predictions from 4."
      ],
      "metadata": {
        "id": "1fk5u9TLEiiy"
      }
    },
    {
      "cell_type": "markdown",
      "source": [
        "Creating a straight line dataset using the linear regression formula (weight * X + bias)."
      ],
      "metadata": {
        "id": "sp2QM0jDFb1q"
      }
    },
    {
      "cell_type": "code",
      "execution_count": 150,
      "metadata": {
        "id": "IZOt-a9i9nz7"
      },
      "outputs": [],
      "source": [
        "import torch\n",
        "from torch import nn\n",
        "import numpy as np\n",
        "import matplotlib.pyplot as plt"
      ]
    },
    {
      "cell_type": "code",
      "source": [
        "device = \"cuda\" if torch.cuda.is_available() else \"cpu\"\n",
        "device"
      ],
      "metadata": {
        "colab": {
          "base_uri": "https://localhost:8080/",
          "height": 36
        },
        "id": "M9CEi90j9zwO",
        "outputId": "5cd18073-0423-4d27-d885-3eed029b0e26"
      },
      "execution_count": 151,
      "outputs": [
        {
          "output_type": "execute_result",
          "data": {
            "text/plain": [
              "'cuda'"
            ],
            "application/vnd.google.colaboratory.intrinsic+json": {
              "type": "string"
            }
          },
          "metadata": {},
          "execution_count": 151
        }
      ]
    },
    {
      "cell_type": "code",
      "source": [
        "weight = 0.3\n",
        "bias = 0.9\n",
        "\n",
        "start = 0\n",
        "end = 1\n",
        "step = 0.01\n",
        "\n",
        "X = torch.arange(start, end, step).unsqueeze(dim=1)\n",
        "\n",
        "y = weight * X + bias\n",
        "\n",
        "len(X), len(y), X[:5], y[:5]"
      ],
      "metadata": {
        "colab": {
          "base_uri": "https://localhost:8080/"
        },
        "id": "oOSC1yGx-Or6",
        "outputId": "72176115-29bd-403a-a515-d572bbe8416e"
      },
      "execution_count": 152,
      "outputs": [
        {
          "output_type": "execute_result",
          "data": {
            "text/plain": [
              "(100,\n",
              " 100,\n",
              " tensor([[0.0000],\n",
              "         [0.0100],\n",
              "         [0.0200],\n",
              "         [0.0300],\n",
              "         [0.0400]]),\n",
              " tensor([[0.9000],\n",
              "         [0.9030],\n",
              "         [0.9060],\n",
              "         [0.9090],\n",
              "         [0.9120]]))"
            ]
          },
          "metadata": {},
          "execution_count": 152
        }
      ]
    },
    {
      "cell_type": "code",
      "source": [
        "train_split = int(0.8 * len(X))\n",
        "\n",
        "X_train, y_train = X[:train_split], y[:train_split]\n",
        "X_test, y_test = X[train_split:], y[train_split:]\n",
        "\n",
        "len(X_train), len(y_train), len(X_test), len(y_test)"
      ],
      "metadata": {
        "colab": {
          "base_uri": "https://localhost:8080/"
        },
        "id": "unCizZqf-wOs",
        "outputId": "92f18910-ff95-4d0e-fdb1-5b06eab270db"
      },
      "execution_count": 153,
      "outputs": [
        {
          "output_type": "execute_result",
          "data": {
            "text/plain": [
              "(80, 80, 20, 20)"
            ]
          },
          "metadata": {},
          "execution_count": 153
        }
      ]
    },
    {
      "cell_type": "code",
      "source": [
        "def plot_predictions(train_data=X_train,\n",
        "                     train_labels=y_train,\n",
        "                     test_data=X_test,\n",
        "                     test_labels=y_test,\n",
        "                     predictions=None):\n",
        "  plt.figure(figsize=(10, 7))\n",
        "\n",
        "  plt.scatter(train_data, train_labels, c=\"b\", s=4, label=\"Training data\")\n",
        "  plt.scatter(test_data, test_labels, c=\"g\", s=4, label=\"Testing data\")\n",
        "\n",
        "  if predictions is not None:\n",
        "    plt.scatter(test_data, predictions, c=\"r\", s=4, label=\"Predictions\")\n",
        "\n",
        "  plt.legend(prop={\"size\":14});"
      ],
      "metadata": {
        "id": "RdyfGp3z_gyl"
      },
      "execution_count": 154,
      "outputs": []
    },
    {
      "cell_type": "code",
      "source": [
        "plot_predictions()"
      ],
      "metadata": {
        "colab": {
          "base_uri": "https://localhost:8080/",
          "height": 599
        },
        "id": "-wubXzw2BO8L",
        "outputId": "3b214396-f49f-4763-c36c-61c29dd12b6e"
      },
      "execution_count": 155,
      "outputs": [
        {
          "output_type": "display_data",
          "data": {
            "text/plain": [
              "<Figure size 1000x700 with 1 Axes>"
            ],
            "image/png": "[encoded data removed]"
          },
          "metadata": {}
        }
      ]
    },
    {
      "cell_type": "markdown",
      "source": [
        "Building a PyTorch model by subclassing nn.Module."
      ],
      "metadata": {
        "id": "ZLYYi5X_FiF2"
      }
    },
    {
      "cell_type": "code",
      "source": [
        "class LinearRegressionModelV0(nn.Module):\n",
        "  def __init__(self):\n",
        "    super().__init__()\n",
        "    self.weight = nn.Parameter(torch.rand(1,\n",
        "                                            requires_grad=True,\n",
        "                                            dtype=torch.float))\n",
        "    self.bias = nn.Parameter(torch.rand(1,\n",
        "                                        requires_grad=True,\n",
        "                                        dtype=torch.float))\n",
        "\n",
        "  # def forward(self, x:torch.Tensor) -> torch.Tensor:\n",
        "  #   return self.weights * x + self.bias\n",
        "\n",
        "  def forward(self, x):\n",
        "    return self.weight * x + self.bias"
      ],
      "metadata": {
        "id": "sCvAb2U9BTVt"
      },
      "execution_count": 156,
      "outputs": []
    },
    {
      "cell_type": "code",
      "source": [
        "torch.manual_seed(42)\n",
        "\n",
        "model_0 = LinearRegressionModelV0()\n",
        "\n",
        "next(model_0.parameters()).device"
      ],
      "metadata": {
        "colab": {
          "base_uri": "https://localhost:8080/"
        },
        "id": "xoywZRBACMqu",
        "outputId": "b3a2da8b-0791-4f81-df03-30b1869e1aa9"
      },
      "execution_count": 157,
      "outputs": [
        {
          "output_type": "execute_result",
          "data": {
            "text/plain": [
              "device(type='cpu')"
            ]
          },
          "metadata": {},
          "execution_count": 157
        }
      ]
    },
    {
      "cell_type": "code",
      "source": [
        "model_0.to(device)\n",
        "next(model_0.parameters()).device"
      ],
      "metadata": {
        "colab": {
          "base_uri": "https://localhost:8080/"
        },
        "id": "aCsof9uSA8Vi",
        "outputId": "b6d1a85c-f894-410d-85e4-ba111457cbdf"
      },
      "execution_count": 158,
      "outputs": [
        {
          "output_type": "execute_result",
          "data": {
            "text/plain": [
              "device(type='cuda', index=0)"
            ]
          },
          "metadata": {},
          "execution_count": 158
        }
      ]
    },
    {
      "cell_type": "code",
      "source": [
        "model_0.state_dict()"
      ],
      "metadata": {
        "colab": {
          "base_uri": "https://localhost:8080/"
        },
        "id": "IxDHHFrkCjRY",
        "outputId": "3bc1a4d4-8401-4af6-c677-f36cefd0c568"
      },
      "execution_count": 159,
      "outputs": [
        {
          "output_type": "execute_result",
          "data": {
            "text/plain": [
              "OrderedDict([('weight', tensor([0.8823], device='cuda:0')),\n",
              "             ('bias', tensor([0.9150], device='cuda:0'))])"
            ]
          },
          "metadata": {},
          "execution_count": 159
        }
      ]
    },
    {
      "cell_type": "code",
      "source": [
        "with torch.inference_mode():\n",
        "  y_preds = model_0(X_test.to(device))\n",
        "\n",
        "y_preds[:5]"
      ],
      "metadata": {
        "colab": {
          "base_uri": "https://localhost:8080/"
        },
        "id": "ZPu0eNriCshS",
        "outputId": "5bfeb2cb-5bc0-4b14-dcb3-0723cffb7c90"
      },
      "execution_count": 160,
      "outputs": [
        {
          "output_type": "execute_result",
          "data": {
            "text/plain": [
              "tensor([[1.6208],\n",
              "        [1.6296],\n",
              "        [1.6385],\n",
              "        [1.6473],\n",
              "        [1.6561]], device='cuda:0')"
            ]
          },
          "metadata": {},
          "execution_count": 160
        }
      ]
    },
    {
      "cell_type": "code",
      "source": [
        "y_test[:5]"
      ],
      "metadata": {
        "colab": {
          "base_uri": "https://localhost:8080/"
        },
        "id": "_7KZH7kbC3Mn",
        "outputId": "6418425c-b3f2-4e1f-e6ac-a0352433fedc"
      },
      "execution_count": 161,
      "outputs": [
        {
          "output_type": "execute_result",
          "data": {
            "text/plain": [
              "tensor([[1.1400],\n",
              "        [1.1430],\n",
              "        [1.1460],\n",
              "        [1.1490],\n",
              "        [1.1520]])"
            ]
          },
          "metadata": {},
          "execution_count": 161
        }
      ]
    },
    {
      "cell_type": "code",
      "source": [
        "y_preds.device"
      ],
      "metadata": {
        "colab": {
          "base_uri": "https://localhost:8080/"
        },
        "id": "nZP_Sx1QDUWK",
        "outputId": "00a949c6-4ff7-45e1-bdd1-124a35d57966"
      },
      "execution_count": 162,
      "outputs": [
        {
          "output_type": "execute_result",
          "data": {
            "text/plain": [
              "device(type='cuda', index=0)"
            ]
          },
          "metadata": {},
          "execution_count": 162
        }
      ]
    },
    {
      "cell_type": "code",
      "source": [
        "plot_predictions(predictions=y_preds.cpu())"
      ],
      "metadata": {
        "colab": {
          "base_uri": "https://localhost:8080/",
          "height": 599
        },
        "id": "MS8FAFt1C8gu",
        "outputId": "29d5cf1c-1508-4b2a-ffb9-ad6f1e10d0ff"
      },
      "execution_count": 163,
      "outputs": [
        {
          "output_type": "display_data",
          "data": {
            "text/plain": [
              "<Figure size 1000x700 with 1 Axes>"
            ],
            "image/png": "[encoded data removed]"
          },
          "metadata": {}
        }
      ]
    },
    {
      "cell_type": "markdown",
      "source": [
        "Creating a loss function and optimizer using nn.L1Loss() and torch.optim.SGD(params, lr) respectively."
      ],
      "metadata": {
        "id": "RBPAtoZhFqA8"
      }
    },
    {
      "cell_type": "code",
      "source": [
        "loss_fn = nn.L1Loss()\n",
        "\n",
        "optimizer = torch.optim.SGD(params=model_0.parameters(),\n",
        "                            lr=0.01)"
      ],
      "metadata": {
        "id": "gKVbMJGMDJWN"
      },
      "execution_count": 164,
      "outputs": []
    },
    {
      "cell_type": "markdown",
      "source": [
        "Making predictions with the trained model on the test data."
      ],
      "metadata": {
        "id": "grs_VDDvF0JC"
      }
    },
    {
      "cell_type": "code",
      "source": [
        "torch.manual_seed(42)\n",
        "\n",
        "X_train = X_train.to(device)\n",
        "y_train = y_train.to(device)\n",
        "X_test = X_test.to(device)\n",
        "y_test = y_test.to(device)\n",
        "\n",
        "epochs = 300\n",
        "\n",
        "epoch_count = []\n",
        "loss_values = []\n",
        "test_loss_values = []\n",
        "\n",
        "for epoch in range(epochs):\n",
        "  model_0.train()\n",
        "\n",
        "  y_preds = model_0(X_test)\n",
        "\n",
        "  loss = loss_fn(y_preds, y_test)\n",
        "\n",
        "  optimizer.zero_grad()\n",
        "\n",
        "  loss.backward()\n",
        "\n",
        "  optimizer.step()\n",
        "\n",
        "  model_0.eval()\n",
        "  with torch.inference_mode():\n",
        "    test_pred = model_0(X_test)\n",
        "\n",
        "    test_loss = loss_fn(test_pred, y_test)\n",
        "\n",
        "  if epoch % 20 == 0:\n",
        "    epoch_count.append(epoch)\n",
        "    loss_values.append(loss)\n",
        "    test_loss_values.append(test_loss)\n",
        "\n",
        "    print(f\"Epoch: {epoch} | Loss: {loss} | Test loss: {test_loss}\")\n",
        "\n",
        "    print(model_0.state_dict())"
      ],
      "metadata": {
        "id": "D_ybIy_zDwOy",
        "colab": {
          "base_uri": "https://localhost:8080/"
        },
        "outputId": "7d3eac3a-9b6c-443b-9350-beb08c72d00d"
      },
      "execution_count": 165,
      "outputs": [
        {
          "output_type": "stream",
          "name": "stdout",
          "text": [
            "Epoch: 0 | Loss: 0.5361350178718567 | Test loss: 0.5181246995925903\n",
            "OrderedDict([('weight', tensor([0.8733], device='cuda:0')), ('bias', tensor([0.9050], device='cuda:0'))])\n",
            "Epoch: 20 | Loss: 0.17593024671077728 | Test loss: 0.1579200029373169\n",
            "OrderedDict([('weight', tensor([0.6943], device='cuda:0')), ('bias', tensor([0.7050], device='cuda:0'))])\n",
            "Epoch: 40 | Loss: 0.015621202997863293 | Test loss: 0.015617966651916504\n",
            "OrderedDict([('weight', tensor([0.6124], device='cuda:0')), ('bias', tensor([0.6200], device='cuda:0'))])\n",
            "Epoch: 60 | Loss: 0.015341239981353283 | Test loss: 0.015342950820922852\n",
            "OrderedDict([('weight', tensor([0.6069], device='cuda:0')), ('bias', tensor([0.6250], device='cuda:0'))])\n",
            "Epoch: 80 | Loss: 0.015061283484101295 | Test loss: 0.0150679349899292\n",
            "OrderedDict([('weight', tensor([0.6014], device='cuda:0')), ('bias', tensor([0.6300], device='cuda:0'))])\n",
            "Epoch: 100 | Loss: 0.014781266450881958 | Test loss: 0.014792919158935547\n",
            "OrderedDict([('weight', tensor([0.5959], device='cuda:0')), ('bias', tensor([0.6350], device='cuda:0'))])\n",
            "Epoch: 120 | Loss: 0.014501291327178478 | Test loss: 0.014517909847199917\n",
            "OrderedDict([('weight', tensor([0.5904], device='cuda:0')), ('bias', tensor([0.6400], device='cuda:0'))])\n",
            "Epoch: 140 | Loss: 0.014222902245819569 | Test loss: 0.014241284690797329\n",
            "OrderedDict([('weight', tensor([0.5840], device='cuda:0')), ('bias', tensor([0.6440], device='cuda:0'))])\n",
            "Epoch: 160 | Loss: 0.013947856612503529 | Test loss: 0.013961327262222767\n",
            "OrderedDict([('weight', tensor([0.5785], device='cuda:0')), ('bias', tensor([0.6490], device='cuda:0'))])\n",
            "Epoch: 180 | Loss: 0.013672858476638794 | Test loss: 0.013681352138519287\n",
            "OrderedDict([('weight', tensor([0.5730], device='cuda:0')), ('bias', tensor([0.6540], device='cuda:0'))])\n",
            "Epoch: 200 | Loss: 0.013397866860032082 | Test loss: 0.01340135931968689\n",
            "OrderedDict([('weight', tensor([0.5675], device='cuda:0')), ('bias', tensor([0.6590], device='cuda:0'))])\n",
            "Epoch: 220 | Loss: 0.01312282681465149 | Test loss: 0.013121378608047962\n",
            "OrderedDict([('weight', tensor([0.5620], device='cuda:0')), ('bias', tensor([0.6640], device='cuda:0'))])\n",
            "Epoch: 240 | Loss: 0.012847798876464367 | Test loss: 0.012841391377151012\n",
            "OrderedDict([('weight', tensor([0.5565], device='cuda:0')), ('bias', tensor([0.6690], device='cuda:0'))])\n",
            "Epoch: 260 | Loss: 0.012572777457535267 | Test loss: 0.012561422772705555\n",
            "OrderedDict([('weight', tensor([0.5510], device='cuda:0')), ('bias', tensor([0.6740], device='cuda:0'))])\n",
            "Epoch: 280 | Loss: 0.012297767214477062 | Test loss: 0.012281459756195545\n",
            "OrderedDict([('weight', tensor([0.5455], device='cuda:0')), ('bias', tensor([0.6790], device='cuda:0'))])\n"
          ]
        }
      ]
    },
    {
      "cell_type": "code",
      "source": [
        "model_0.eval()\n",
        "with torch.inference_mode():\n",
        "  y_preds_test = model_0(X_test)"
      ],
      "metadata": {
        "id": "U_UiTAA0E8YR"
      },
      "execution_count": 166,
      "outputs": []
    },
    {
      "cell_type": "code",
      "source": [
        "plot_predictions(predictions=y_preds_test.cpu())"
      ],
      "metadata": {
        "colab": {
          "base_uri": "https://localhost:8080/",
          "height": 599
        },
        "id": "idrl9D7sFMqR",
        "outputId": "7adf73f5-2659-431d-b6bd-a69e4e6a1751"
      },
      "execution_count": 167,
      "outputs": [
        {
          "output_type": "display_data",
          "data": {
            "text/plain": [
              "<Figure size 1000x700 with 1 Axes>"
            ],
            "image/png": "[encoded data removed]"
          },
          "metadata": {}
        }
      ]
    },
    {
      "cell_type": "code",
      "source": [
        "plt.plot(epoch_count, np.array(torch.tensor(loss_values).cpu().numpy()), label=\"Train loss\")\n",
        "plt.plot(epoch_count, np.array(torch.tensor(test_loss_values).cpu().numpy()), label=\"Test loss\")\n",
        "plt.title(\"Training and test loss curves\")\n",
        "plt.ylabel(\"Loss\")\n",
        "plt.xlabel(\"Epochs\")\n",
        "plt.legend();"
      ],
      "metadata": {
        "colab": {
          "base_uri": "https://localhost:8080/",
          "height": 472
        },
        "id": "4K26NLnnFQA_",
        "outputId": "696e0133-d423-4fbf-f59b-d6b88542a7b7"
      },
      "execution_count": 168,
      "outputs": [
        {
          "output_type": "display_data",
          "data": {
            "text/plain": [
              "<Figure size 640x480 with 1 Axes>"
            ],
            "image/png": "[encoded data removed]"
          },
          "metadata": {}
        }
      ]
    },
    {
      "cell_type": "markdown",
      "source": [
        "Save the trained model's state_dict() to file."
      ],
      "metadata": {
        "id": "EQMk4Qw1F8wL"
      }
    },
    {
      "cell_type": "code",
      "source": [
        "from pathlib import Path\n",
        "\n",
        "MODEL_PATH = Path(\"models\")\n",
        "MODEL_PATH.mkdir(parents=True,exist_ok=True)\n",
        "\n",
        "MODEL_NAME = \"Exercise_PyTorch_Workflows_01.pth\"\n",
        "MODEL_SAVE_PATH = MODEL_PATH / MODEL_NAME\n",
        "\n",
        "print(f\"Saving model to: {MODEL_SAVE_PATH}\")\n",
        "torch.save(obj=model_0.state_dict(),\n",
        "           f=MODEL_SAVE_PATH)"
      ],
      "metadata": {
        "id": "zxNI868CFXrM",
        "colab": {
          "base_uri": "https://localhost:8080/"
        },
        "outputId": "bfd57bfb-2eed-4f4e-cfee-f178dc4de8ef"
      },
      "execution_count": 169,
      "outputs": [
        {
          "output_type": "stream",
          "name": "stdout",
          "text": [
            "Saving model to: models/Exercise_PyTorch_Workflows_01.pth\n"
          ]
        }
      ]
    },
    {
      "cell_type": "code",
      "source": [
        "loaded_model_1 = LinearRegressionModelV0()\n",
        "\n",
        "loaded_model_1.load_state_dict(torch.load(MODEL_SAVE_PATH))\n",
        "\n",
        "loaded_model_1.to(device)"
      ],
      "metadata": {
        "colab": {
          "base_uri": "https://localhost:8080/"
        },
        "id": "r3f8NaiKDn8j",
        "outputId": "930dd4d6-d4d3-466a-ddad-be2ffb288ac7"
      },
      "execution_count": 170,
      "outputs": [
        {
          "output_type": "execute_result",
          "data": {
            "text/plain": [
              "LinearRegressionModelV0()"
            ]
          },
          "metadata": {},
          "execution_count": 170
        }
      ]
    },
    {
      "cell_type": "code",
      "source": [
        "next(loaded_model_1.parameters()).device"
      ],
      "metadata": {
        "colab": {
          "base_uri": "https://localhost:8080/"
        },
        "id": "R8Oujgq5Dyqg",
        "outputId": "63b83385-48ec-4f29-a1a8-84ee4009a481"
      },
      "execution_count": 171,
      "outputs": [
        {
          "output_type": "execute_result",
          "data": {
            "text/plain": [
              "device(type='cuda', index=0)"
            ]
          },
          "metadata": {},
          "execution_count": 171
        }
      ]
    },
    {
      "cell_type": "code",
      "source": [
        "loaded_model_1.state_dict()"
      ],
      "metadata": {
        "colab": {
          "base_uri": "https://localhost:8080/"
        },
        "id": "OZZ3klypD8lr",
        "outputId": "75b8086d-b736-497e-ee18-e5006e0eaa44"
      },
      "execution_count": 172,
      "outputs": [
        {
          "output_type": "execute_result",
          "data": {
            "text/plain": [
              "OrderedDict([('weight', tensor([0.5405], device='cuda:0')),\n",
              "             ('bias', tensor([0.6840], device='cuda:0'))])"
            ]
          },
          "metadata": {},
          "execution_count": 172
        }
      ]
    },
    {
      "cell_type": "code",
      "source": [
        "loaded_model_1.eval()\n",
        "with torch.inference_mode():\n",
        "  loaded_model_preds = loaded_model_1(X_test)\n",
        "\n",
        "y_preds_test == loaded_model_preds"
      ],
      "metadata": {
        "colab": {
          "base_uri": "https://localhost:8080/"
        },
        "id": "BWs2F5KXD_fu",
        "outputId": "0729623f-9543-4171-9efc-140201ab8cb2"
      },
      "execution_count": 173,
      "outputs": [
        {
          "output_type": "execute_result",
          "data": {
            "text/plain": [
              "tensor([[True],\n",
              "        [True],\n",
              "        [True],\n",
              "        [True],\n",
              "        [True],\n",
              "        [True],\n",
              "        [True],\n",
              "        [True],\n",
              "        [True],\n",
              "        [True],\n",
              "        [True],\n",
              "        [True],\n",
              "        [True],\n",
              "        [True],\n",
              "        [True],\n",
              "        [True],\n",
              "        [True],\n",
              "        [True],\n",
              "        [True],\n",
              "        [True]], device='cuda:0')"
            ]
          },
          "metadata": {},
          "execution_count": 173
        }
      ]
    }
  ]
}